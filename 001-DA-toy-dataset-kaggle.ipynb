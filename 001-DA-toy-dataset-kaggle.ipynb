{
 "cells": [
  {
   "cell_type": "markdown",
   "metadata": {},
   "source": [
    "# Playing with the toy data from Kaggle"
   ]
  },
  {
   "cell_type": "markdown",
   "metadata": {},
   "source": [
    "## **Step 1** : Set the working directory"
   ]
  },
  {
   "cell_type": "code",
   "execution_count": 22,
   "metadata": {},
   "outputs": [],
   "source": [
    "setwd('C:/R')"
   ]
  },
  {
   "cell_type": "markdown",
   "metadata": {},
   "source": [
    "## **Step 2** : Read the data from the directory"
   ]
  },
  {
   "cell_type": "code",
   "execution_count": 119,
   "metadata": {},
   "outputs": [],
   "source": [
    "toy <- read.csv('toy.csv', header=T, sep=',')"
   ]
  },
  {
   "cell_type": "code",
   "execution_count": 120,
   "metadata": {},
   "outputs": [],
   "source": [
    "df <- data.frame(toy)"
   ]
  },
  {
   "cell_type": "markdown",
   "metadata": {},
   "source": [
    "## **Step 3** : See if the data is read well"
   ]
  },
  {
   "cell_type": "code",
   "execution_count": 121,
   "metadata": {
    "scrolled": false
   },
   "outputs": [
    {
     "data": {
      "text/html": [
       "<table>\n",
       "<caption>A data.frame: 6 × 6</caption>\n",
       "<thead>\n",
       "\t<tr><th scope=col>Number</th><th scope=col>City</th><th scope=col>Gender</th><th scope=col>Age</th><th scope=col>Income</th><th scope=col>Illness</th></tr>\n",
       "\t<tr><th scope=col>&lt;int&gt;</th><th scope=col>&lt;fct&gt;</th><th scope=col>&lt;fct&gt;</th><th scope=col>&lt;int&gt;</th><th scope=col>&lt;dbl&gt;</th><th scope=col>&lt;fct&gt;</th></tr>\n",
       "</thead>\n",
       "<tbody>\n",
       "\t<tr><td>1</td><td>Dallas</td><td>Male  </td><td>41</td><td>40367</td><td>No</td></tr>\n",
       "\t<tr><td>2</td><td>Dallas</td><td>Male  </td><td>54</td><td>45084</td><td>No</td></tr>\n",
       "\t<tr><td>3</td><td>Dallas</td><td>Male  </td><td>42</td><td>52483</td><td>No</td></tr>\n",
       "\t<tr><td>4</td><td>Dallas</td><td>Male  </td><td>40</td><td>40941</td><td>No</td></tr>\n",
       "\t<tr><td>5</td><td>Dallas</td><td>Male  </td><td>46</td><td>50289</td><td>No</td></tr>\n",
       "\t<tr><td>6</td><td>Dallas</td><td>Female</td><td>36</td><td>50786</td><td>No</td></tr>\n",
       "</tbody>\n",
       "</table>\n"
      ],
      "text/latex": [
       "A data.frame: 6 × 6\n",
       "\\begin{tabular}{r|llllll}\n",
       " Number & City & Gender & Age & Income & Illness\\\\\n",
       " <int> & <fct> & <fct> & <int> & <dbl> & <fct>\\\\\n",
       "\\hline\n",
       "\t 1 & Dallas & Male   & 41 & 40367 & No\\\\\n",
       "\t 2 & Dallas & Male   & 54 & 45084 & No\\\\\n",
       "\t 3 & Dallas & Male   & 42 & 52483 & No\\\\\n",
       "\t 4 & Dallas & Male   & 40 & 40941 & No\\\\\n",
       "\t 5 & Dallas & Male   & 46 & 50289 & No\\\\\n",
       "\t 6 & Dallas & Female & 36 & 50786 & No\\\\\n",
       "\\end{tabular}\n"
      ],
      "text/markdown": [
       "\n",
       "A data.frame: 6 × 6\n",
       "\n",
       "| Number &lt;int&gt; | City &lt;fct&gt; | Gender &lt;fct&gt; | Age &lt;int&gt; | Income &lt;dbl&gt; | Illness &lt;fct&gt; |\n",
       "|---|---|---|---|---|---|\n",
       "| 1 | Dallas | Male   | 41 | 40367 | No |\n",
       "| 2 | Dallas | Male   | 54 | 45084 | No |\n",
       "| 3 | Dallas | Male   | 42 | 52483 | No |\n",
       "| 4 | Dallas | Male   | 40 | 40941 | No |\n",
       "| 5 | Dallas | Male   | 46 | 50289 | No |\n",
       "| 6 | Dallas | Female | 36 | 50786 | No |\n",
       "\n"
      ],
      "text/plain": [
       "  Number City   Gender Age Income Illness\n",
       "1 1      Dallas Male   41  40367  No     \n",
       "2 2      Dallas Male   54  45084  No     \n",
       "3 3      Dallas Male   42  52483  No     \n",
       "4 4      Dallas Male   40  40941  No     \n",
       "5 5      Dallas Male   46  50289  No     \n",
       "6 6      Dallas Female 36  50786  No     "
      ]
     },
     "metadata": {},
     "output_type": "display_data"
    }
   ],
   "source": [
    "head(df)"
   ]
  },
  {
   "cell_type": "code",
   "execution_count": 122,
   "metadata": {},
   "outputs": [],
   "source": [
    "# Remove Number column\n",
    "df <- df[, -1]"
   ]
  },
  {
   "cell_type": "code",
   "execution_count": 123,
   "metadata": {},
   "outputs": [
    {
     "data": {
      "text/html": [
       "<table>\n",
       "<caption>A data.frame: 6 × 5</caption>\n",
       "<thead>\n",
       "\t<tr><th></th><th scope=col>City</th><th scope=col>Gender</th><th scope=col>Age</th><th scope=col>Income</th><th scope=col>Illness</th></tr>\n",
       "\t<tr><th></th><th scope=col>&lt;fct&gt;</th><th scope=col>&lt;fct&gt;</th><th scope=col>&lt;int&gt;</th><th scope=col>&lt;dbl&gt;</th><th scope=col>&lt;fct&gt;</th></tr>\n",
       "</thead>\n",
       "<tbody>\n",
       "\t<tr><th scope=row>149995</th><td>Austin</td><td>Female</td><td>37</td><td>106097</td><td>No</td></tr>\n",
       "\t<tr><th scope=row>149996</th><td>Austin</td><td>Male  </td><td>48</td><td> 93669</td><td>No</td></tr>\n",
       "\t<tr><th scope=row>149997</th><td>Austin</td><td>Male  </td><td>25</td><td> 96748</td><td>No</td></tr>\n",
       "\t<tr><th scope=row>149998</th><td>Austin</td><td>Male  </td><td>26</td><td>111885</td><td>No</td></tr>\n",
       "\t<tr><th scope=row>149999</th><td>Austin</td><td>Male  </td><td>25</td><td>111878</td><td>No</td></tr>\n",
       "\t<tr><th scope=row>150000</th><td>Austin</td><td>Female</td><td>37</td><td> 87251</td><td>No</td></tr>\n",
       "</tbody>\n",
       "</table>\n"
      ],
      "text/latex": [
       "A data.frame: 6 × 5\n",
       "\\begin{tabular}{r|lllll}\n",
       "  & City & Gender & Age & Income & Illness\\\\\n",
       "  & <fct> & <fct> & <int> & <dbl> & <fct>\\\\\n",
       "\\hline\n",
       "\t149995 & Austin & Female & 37 & 106097 & No\\\\\n",
       "\t149996 & Austin & Male   & 48 &  93669 & No\\\\\n",
       "\t149997 & Austin & Male   & 25 &  96748 & No\\\\\n",
       "\t149998 & Austin & Male   & 26 & 111885 & No\\\\\n",
       "\t149999 & Austin & Male   & 25 & 111878 & No\\\\\n",
       "\t150000 & Austin & Female & 37 &  87251 & No\\\\\n",
       "\\end{tabular}\n"
      ],
      "text/markdown": [
       "\n",
       "A data.frame: 6 × 5\n",
       "\n",
       "| <!--/--> | City &lt;fct&gt; | Gender &lt;fct&gt; | Age &lt;int&gt; | Income &lt;dbl&gt; | Illness &lt;fct&gt; |\n",
       "|---|---|---|---|---|---|\n",
       "| 149995 | Austin | Female | 37 | 106097 | No |\n",
       "| 149996 | Austin | Male   | 48 |  93669 | No |\n",
       "| 149997 | Austin | Male   | 25 |  96748 | No |\n",
       "| 149998 | Austin | Male   | 26 | 111885 | No |\n",
       "| 149999 | Austin | Male   | 25 | 111878 | No |\n",
       "| 150000 | Austin | Female | 37 |  87251 | No |\n",
       "\n"
      ],
      "text/plain": [
       "       City   Gender Age Income Illness\n",
       "149995 Austin Female 37  106097 No     \n",
       "149996 Austin Male   48   93669 No     \n",
       "149997 Austin Male   25   96748 No     \n",
       "149998 Austin Male   26  111885 No     \n",
       "149999 Austin Male   25  111878 No     \n",
       "150000 Austin Female 37   87251 No     "
      ]
     },
     "metadata": {},
     "output_type": "display_data"
    }
   ],
   "source": [
    "# Make sure the Number column is gone\n",
    "tail(df)"
   ]
  },
  {
   "cell_type": "code",
   "execution_count": 124,
   "metadata": {},
   "outputs": [
    {
     "data": {
      "text/html": [
       "<ol class=list-inline>\n",
       "\t<li>150000</li>\n",
       "\t<li>5</li>\n",
       "</ol>\n"
      ],
      "text/latex": [
       "\\begin{enumerate*}\n",
       "\\item 150000\n",
       "\\item 5\n",
       "\\end{enumerate*}\n"
      ],
      "text/markdown": [
       "1. 150000\n",
       "2. 5\n",
       "\n",
       "\n"
      ],
      "text/plain": [
       "[1] 150000      5"
      ]
     },
     "metadata": {},
     "output_type": "display_data"
    }
   ],
   "source": [
    "dim(df)"
   ]
  },
  {
   "cell_type": "markdown",
   "metadata": {},
   "source": [
    "## **Step 4** : Summarize the data for basic descriptive statistics"
   ]
  },
  {
   "cell_type": "code",
   "execution_count": 125,
   "metadata": {
    "scrolled": true
   },
   "outputs": [
    {
     "data": {
      "text/plain": [
       "            City          Gender           Age            Income      \n",
       " New York City:50307   Female:66200   Min.   :25.00   Min.   :  -654  \n",
       " Los Angeles  :32173   Male  :83800   1st Qu.:35.00   1st Qu.: 80868  \n",
       " Dallas       :19707                  Median :45.00   Median : 93655  \n",
       " Mountain View:14219                  Mean   :44.95   Mean   : 91253  \n",
       " Austin       :12292                  3rd Qu.:55.00   3rd Qu.:104519  \n",
       " Boston       : 8301                  Max.   :65.00   Max.   :177157  \n",
       " (Other)      :13001                                                  \n",
       " Illness     \n",
       " No :137861  \n",
       " Yes: 12139  \n",
       "             \n",
       "             \n",
       "             \n",
       "             \n",
       "             "
      ]
     },
     "metadata": {},
     "output_type": "display_data"
    }
   ],
   "source": [
    "summary(df)"
   ]
  },
  {
   "cell_type": "code",
   "execution_count": 126,
   "metadata": {
    "scrolled": false
   },
   "outputs": [
    {
     "name": "stderr",
     "output_type": "stream",
     "text": [
      "The following objects are masked _by_ .GlobalEnv:\n",
      "\n",
      "    Age, Gender, Illness, Income\n",
      "\n",
      "The following objects are masked from df (pos = 3):\n",
      "\n",
      "    Age, Gender, Illness, Income\n",
      "\n",
      "The following objects are masked from df (pos = 4):\n",
      "\n",
      "    Age, City, Gender, Illness, Income\n",
      "\n",
      "The following objects are masked from df (pos = 5):\n",
      "\n",
      "    Age, City, Gender, Illness, Income\n",
      "\n"
     ]
    }
   ],
   "source": [
    "attach(df)"
   ]
  },
  {
   "cell_type": "code",
   "execution_count": 127,
   "metadata": {},
   "outputs": [
    {
     "data": {
      "text/html": [
       "'integer'"
      ],
      "text/latex": [
       "'integer'"
      ],
      "text/markdown": [
       "'integer'"
      ],
      "text/plain": [
       "[1] \"integer\""
      ]
     },
     "metadata": {},
     "output_type": "display_data"
    }
   ],
   "source": [
    "class(df$Age)"
   ]
  },
  {
   "cell_type": "code",
   "execution_count": 128,
   "metadata": {},
   "outputs": [
    {
     "data": {
      "text/html": [
       "'factor'"
      ],
      "text/latex": [
       "'factor'"
      ],
      "text/markdown": [
       "'factor'"
      ],
      "text/plain": [
       "[1] \"factor\""
      ]
     },
     "metadata": {},
     "output_type": "display_data"
    }
   ],
   "source": [
    "class(df$Gender)"
   ]
  },
  {
   "cell_type": "code",
   "execution_count": 129,
   "metadata": {},
   "outputs": [
    {
     "data": {
      "text/html": [
       "'factor'"
      ],
      "text/latex": [
       "'factor'"
      ],
      "text/markdown": [
       "'factor'"
      ],
      "text/plain": [
       "[1] \"factor\""
      ]
     },
     "metadata": {},
     "output_type": "display_data"
    }
   ],
   "source": [
    "class(df$Illness)"
   ]
  },
  {
   "cell_type": "code",
   "execution_count": 130,
   "metadata": {},
   "outputs": [
    {
     "data": {
      "text/html": [
       "'numeric'"
      ],
      "text/latex": [
       "'numeric'"
      ],
      "text/markdown": [
       "'numeric'"
      ],
      "text/plain": [
       "[1] \"numeric\""
      ]
     },
     "metadata": {},
     "output_type": "display_data"
    }
   ],
   "source": [
    "class(df$Income)"
   ]
  },
  {
   "cell_type": "markdown",
   "metadata": {},
   "source": [
    "### Q. Which city is most populated in this data?"
   ]
  },
  {
   "cell_type": "code",
   "execution_count": 132,
   "metadata": {
    "scrolled": true
   },
   "outputs": [
    {
     "data": {
      "text/plain": [
       "City\n",
       "         Austin          Boston          Dallas     Los Angeles   Mountain View \n",
       "          12292            8301           19707           32173           14219 \n",
       "  New York City       San Diego Washington D.C. \n",
       "          50307            4881            8120 "
      ]
     },
     "metadata": {},
     "output_type": "display_data"
    }
   ],
   "source": [
    "table(City)"
   ]
  },
  {
   "cell_type": "code",
   "execution_count": 133,
   "metadata": {},
   "outputs": [
    {
     "data": {
      "image/png": "[encoded data removed]",
      "text/plain": [
       "plot without title"
      ]
     },
     "metadata": {},
     "output_type": "display_data"
    }
   ],
   "source": [
    "# Visualize the table\n",
    "plot(City)"
   ]
  },
  {
   "cell_type": "markdown",
   "metadata": {},
   "source": [
    "### Q. How is age distributed throughout the data?"
   ]
  },
  {
   "cell_type": "code",
   "execution_count": 134,
   "metadata": {},
   "outputs": [
    {
     "data": {
      "image/png": "[encoded data removed]",
      "text/plain": [
       "plot without title"
      ]
     },
     "metadata": {},
     "output_type": "display_data"
    }
   ],
   "source": [
    "# Mean and Median being both 45, age is almost equally distributed around them.\n",
    "boxplot(Age, data=df)"
   ]
  },
  {
   "cell_type": "markdown",
   "metadata": {},
   "source": [
    "## **Step 5** : Make hypotheses such as:\n",
    "1. 'Age' is correlated with 'Illness', *which is quite plausible in common sense.*\n",
    "2. 'City' is correlated with 'Income', as the cost of living is usually high in cities."
   ]
  },
  {
   "cell_type": "markdown",
   "metadata": {},
   "source": [
    "\n",
    "## **Step 6** : Check if the hypotheses are true"
   ]
  },
  {
   "cell_type": "code",
   "execution_count": 135,
   "metadata": {},
   "outputs": [],
   "source": [
    "# Convert factor variables into numeric values for regression\n",
    "df$Gender <- as.numeric(df$Gender)\n",
    "df$Illness <- as.numeric(df$Illness)"
   ]
  },
  {
   "cell_type": "markdown",
   "metadata": {},
   "source": [
    "### Q. Is Age related to Illness?"
   ]
  },
  {
   "cell_type": "code",
   "execution_count": 146,
   "metadata": {
    "scrolled": false
   },
   "outputs": [],
   "source": [
    "ill.lm <- lm(df$Illness ~ ., data=df)"
   ]
  },
  {
   "cell_type": "code",
   "execution_count": 147,
   "metadata": {
    "scrolled": true
   },
   "outputs": [
    {
     "data": {
      "text/plain": [
       "\n",
       "Call:\n",
       "lm(formula = df$Illness ~ ., data = df)\n",
       "\n",
       "Residuals:\n",
       "     Min       1Q   Median       3Q      Max \n",
       "-0.08464 -0.08200 -0.08048 -0.07959  0.92180 \n",
       "\n",
       "Coefficients:\n",
       "                      Estimate Std. Error t value Pr(>|t|)    \n",
       "(Intercept)          1.078e+00  6.771e-03 159.125   <2e-16 ***\n",
       "CityBoston           3.439e-04  3.876e-03   0.089    0.929    \n",
       "CityDallas           6.173e-04  4.451e-03   0.139    0.890    \n",
       "CityLos Angeles     -2.556e-03  2.914e-03  -0.877    0.380    \n",
       "CityMountain View   -4.421e-04  4.604e-03  -0.096    0.924    \n",
       "CityNew York City   -2.481e-03  2.783e-03  -0.891    0.373    \n",
       "CitySan Diego       -1.785e-03  4.672e-03  -0.382    0.702    \n",
       "CityWashington D.C.  4.536e-04  4.129e-03   0.110    0.913    \n",
       "Gender               4.856e-04  1.583e-03   0.307    0.759    \n",
       "Age                  4.278e-05  6.085e-05   0.703    0.482    \n",
       "Income               2.293e-08  7.025e-08   0.326    0.744    \n",
       "---\n",
       "Signif. codes:  0 '***' 0.001 '**' 0.01 '*' 0.05 '.' 0.1 ' ' 1\n",
       "\n",
       "Residual standard error: 0.2727 on 149989 degrees of freedom\n",
       "Multiple R-squared:  2.535e-05,\tAdjusted R-squared:  -4.132e-05 \n",
       "F-statistic: 0.3803 on 10 and 149989 DF,  p-value: 0.9558\n"
      ]
     },
     "metadata": {},
     "output_type": "display_data"
    }
   ],
   "source": [
    "summary(ill.lm)"
   ]
  },
  {
   "cell_type": "code",
   "execution_count": 148,
   "metadata": {},
   "outputs": [
    {
     "data": {
      "text/html": [
       "<table>\n",
       "<caption>A anova: 5 × 5</caption>\n",
       "<thead>\n",
       "\t<tr><th></th><th scope=col>Df</th><th scope=col>Sum Sq</th><th scope=col>Mean Sq</th><th scope=col>F value</th><th scope=col>Pr(&gt;F)</th></tr>\n",
       "\t<tr><th></th><th scope=col>&lt;int&gt;</th><th scope=col>&lt;dbl&gt;</th><th scope=col>&lt;dbl&gt;</th><th scope=col>&lt;dbl&gt;</th><th scope=col>&lt;dbl&gt;</th></tr>\n",
       "</thead>\n",
       "<tbody>\n",
       "\t<tr><th scope=row>City</th><td>     7</td><td>2.193963e-01</td><td>0.031342322</td><td>0.4213747</td><td>0.8896212</td></tr>\n",
       "\t<tr><th scope=row>Gender</th><td>     1</td><td>1.871647e-02</td><td>0.018716465</td><td>0.2516293</td><td>0.6159309</td></tr>\n",
       "\t<tr><th scope=row>Age</th><td>     1</td><td>3.679750e-02</td><td>0.036797504</td><td>0.4947157</td><td>0.4818323</td></tr>\n",
       "\t<tr><th scope=row>Income</th><td>     1</td><td>7.927393e-03</td><td>0.007927393</td><td>0.1065780</td><td>0.7440746</td></tr>\n",
       "\t<tr><th scope=row>Residuals</th><td>149989</td><td>1.115635e+04</td><td>0.074381110</td><td>       NA</td><td>       NA</td></tr>\n",
       "</tbody>\n",
       "</table>\n"
      ],
      "text/latex": [
       "A anova: 5 × 5\n",
       "\\begin{tabular}{r|lllll}\n",
       "  & Df & Sum Sq & Mean Sq & F value & Pr(>F)\\\\\n",
       "  & <int> & <dbl> & <dbl> & <dbl> & <dbl>\\\\\n",
       "\\hline\n",
       "\tCity &      7 & 2.193963e-01 & 0.031342322 & 0.4213747 & 0.8896212\\\\\n",
       "\tGender &      1 & 1.871647e-02 & 0.018716465 & 0.2516293 & 0.6159309\\\\\n",
       "\tAge &      1 & 3.679750e-02 & 0.036797504 & 0.4947157 & 0.4818323\\\\\n",
       "\tIncome &      1 & 7.927393e-03 & 0.007927393 & 0.1065780 & 0.7440746\\\\\n",
       "\tResiduals & 149989 & 1.115635e+04 & 0.074381110 &        NA &        NA\\\\\n",
       "\\end{tabular}\n"
      ],
      "text/markdown": [
       "\n",
       "A anova: 5 × 5\n",
       "\n",
       "| <!--/--> | Df &lt;int&gt; | Sum Sq &lt;dbl&gt; | Mean Sq &lt;dbl&gt; | F value &lt;dbl&gt; | Pr(&gt;F) &lt;dbl&gt; |\n",
       "|---|---|---|---|---|---|\n",
       "| City |      7 | 2.193963e-01 | 0.031342322 | 0.4213747 | 0.8896212 |\n",
       "| Gender |      1 | 1.871647e-02 | 0.018716465 | 0.2516293 | 0.6159309 |\n",
       "| Age |      1 | 3.679750e-02 | 0.036797504 | 0.4947157 | 0.4818323 |\n",
       "| Income |      1 | 7.927393e-03 | 0.007927393 | 0.1065780 | 0.7440746 |\n",
       "| Residuals | 149989 | 1.115635e+04 | 0.074381110 |        NA |        NA |\n",
       "\n"
      ],
      "text/plain": [
       "          Df     Sum Sq       Mean Sq     F value   Pr(>F)   \n",
       "City           7 2.193963e-01 0.031342322 0.4213747 0.8896212\n",
       "Gender         1 1.871647e-02 0.018716465 0.2516293 0.6159309\n",
       "Age            1 3.679750e-02 0.036797504 0.4947157 0.4818323\n",
       "Income         1 7.927393e-03 0.007927393 0.1065780 0.7440746\n",
       "Residuals 149989 1.115635e+04 0.074381110        NA        NA"
      ]
     },
     "metadata": {},
     "output_type": "display_data"
    }
   ],
   "source": [
    "# None of the variables are statistically significant, as all P values are more than 0.05.\n",
    "anova(ill.lm)"
   ]
  },
  {
   "cell_type": "markdown",
   "metadata": {},
   "source": [
    "### Q. Is Income related to City?"
   ]
  },
  {
   "cell_type": "code",
   "execution_count": 149,
   "metadata": {},
   "outputs": [],
   "source": [
    "income.lm <- lm(df$Income ~ ., data=df)"
   ]
  },
  {
   "cell_type": "code",
   "execution_count": 150,
   "metadata": {
    "scrolled": true
   },
   "outputs": [
    {
     "data": {
      "text/plain": [
       "\n",
       "Call:\n",
       "lm(formula = df$Income ~ ., data = df)\n",
       "\n",
       "Residuals:\n",
       "   Min     1Q Median     3Q    Max \n",
       "-41909  -6764     28   6795  49112 \n",
       "\n",
       "Coefficients:\n",
       "                      Estimate Std. Error  t value Pr(>|t|)    \n",
       "(Intercept)          7.458e+04  1.880e+02  396.750   <2e-16 ***\n",
       "CityBoston           1.371e+03  1.424e+02    9.626   <2e-16 ***\n",
       "CityDallas          -4.499e+04  1.152e+02 -390.448   <2e-16 ***\n",
       "CityLos Angeles      5.046e+03  1.063e+02   47.463   <2e-16 ***\n",
       "CityMountain View    4.483e+04  1.235e+02  363.112   <2e-16 ***\n",
       "CityNew York City    6.606e+03  1.009e+02   65.490   <2e-16 ***\n",
       "CitySan Diego        1.040e+04  1.696e+02   61.293   <2e-16 ***\n",
       "CityWashington D.C. -1.928e+04  1.434e+02 -134.467   <2e-16 ***\n",
       "Gender               1.000e+04  5.213e+01  191.896   <2e-16 ***\n",
       "Age                  9.437e-01  2.237e+00    0.422    0.673    \n",
       "Illness              3.099e+01  9.491e+01    0.326    0.744    \n",
       "---\n",
       "Signif. codes:  0 '***' 0.001 '**' 0.01 '*' 0.05 '.' 0.1 ' ' 1\n",
       "\n",
       "Residual standard error: 10030 on 149989 degrees of freedom\n",
       "Multiple R-squared:  0.8391,\tAdjusted R-squared:  0.8391 \n",
       "F-statistic: 7.82e+04 on 10 and 149989 DF,  p-value: < 2.2e-16\n"
      ]
     },
     "metadata": {},
     "output_type": "display_data"
    }
   ],
   "source": [
    "# Residents in all cities in this data enjoy high level of income.\n",
    "# Usually male earn higher income than female.\n",
    "summary(income.lm)"
   ]
  },
  {
   "cell_type": "code",
   "execution_count": 151,
   "metadata": {
    "scrolled": true
   },
   "outputs": [
    {
     "data": {
      "text/html": [
       "<table>\n",
       "<caption>A anova: 5 × 5</caption>\n",
       "<thead>\n",
       "\t<tr><th></th><th scope=col>Df</th><th scope=col>Sum Sq</th><th scope=col>Mean Sq</th><th scope=col>F value</th><th scope=col>Pr(&gt;F)</th></tr>\n",
       "\t<tr><th></th><th scope=col>&lt;int&gt;</th><th scope=col>&lt;dbl&gt;</th><th scope=col>&lt;dbl&gt;</th><th scope=col>&lt;dbl&gt;</th><th scope=col>&lt;dbl&gt;</th></tr>\n",
       "</thead>\n",
       "<tbody>\n",
       "\t<tr><th scope=row>City</th><td>     7</td><td>7.489568e+13</td><td>1.069938e+13</td><td>1.064603e+05</td><td>0.0000000</td></tr>\n",
       "\t<tr><th scope=row>Gender</th><td>     1</td><td>3.700863e+12</td><td>3.700863e+12</td><td>3.682407e+04</td><td>0.0000000</td></tr>\n",
       "\t<tr><th scope=row>Age</th><td>     1</td><td>1.793942e+07</td><td>1.793942e+07</td><td>1.784996e-01</td><td>0.6726665</td></tr>\n",
       "\t<tr><th scope=row>Illness</th><td>     1</td><td>1.071122e+07</td><td>1.071122e+07</td><td>1.065780e-01</td><td>0.7440746</td></tr>\n",
       "\t<tr><th scope=row>Residuals</th><td>149989</td><td>1.507407e+13</td><td>1.005012e+08</td><td>          NA</td><td>       NA</td></tr>\n",
       "</tbody>\n",
       "</table>\n"
      ],
      "text/latex": [
       "A anova: 5 × 5\n",
       "\\begin{tabular}{r|lllll}\n",
       "  & Df & Sum Sq & Mean Sq & F value & Pr(>F)\\\\\n",
       "  & <int> & <dbl> & <dbl> & <dbl> & <dbl>\\\\\n",
       "\\hline\n",
       "\tCity &      7 & 7.489568e+13 & 1.069938e+13 & 1.064603e+05 & 0.0000000\\\\\n",
       "\tGender &      1 & 3.700863e+12 & 3.700863e+12 & 3.682407e+04 & 0.0000000\\\\\n",
       "\tAge &      1 & 1.793942e+07 & 1.793942e+07 & 1.784996e-01 & 0.6726665\\\\\n",
       "\tIllness &      1 & 1.071122e+07 & 1.071122e+07 & 1.065780e-01 & 0.7440746\\\\\n",
       "\tResiduals & 149989 & 1.507407e+13 & 1.005012e+08 &           NA &        NA\\\\\n",
       "\\end{tabular}\n"
      ],
      "text/markdown": [
       "\n",
       "A anova: 5 × 5\n",
       "\n",
       "| <!--/--> | Df &lt;int&gt; | Sum Sq &lt;dbl&gt; | Mean Sq &lt;dbl&gt; | F value &lt;dbl&gt; | Pr(&gt;F) &lt;dbl&gt; |\n",
       "|---|---|---|---|---|---|\n",
       "| City |      7 | 7.489568e+13 | 1.069938e+13 | 1.064603e+05 | 0.0000000 |\n",
       "| Gender |      1 | 3.700863e+12 | 3.700863e+12 | 3.682407e+04 | 0.0000000 |\n",
       "| Age |      1 | 1.793942e+07 | 1.793942e+07 | 1.784996e-01 | 0.6726665 |\n",
       "| Illness |      1 | 1.071122e+07 | 1.071122e+07 | 1.065780e-01 | 0.7440746 |\n",
       "| Residuals | 149989 | 1.507407e+13 | 1.005012e+08 |           NA |        NA |\n",
       "\n"
      ],
      "text/plain": [
       "          Df     Sum Sq       Mean Sq      F value      Pr(>F)   \n",
       "City           7 7.489568e+13 1.069938e+13 1.064603e+05 0.0000000\n",
       "Gender         1 3.700863e+12 3.700863e+12 3.682407e+04 0.0000000\n",
       "Age            1 1.793942e+07 1.793942e+07 1.784996e-01 0.6726665\n",
       "Illness        1 1.071122e+07 1.071122e+07 1.065780e-01 0.7440746\n",
       "Residuals 149989 1.507407e+13 1.005012e+08           NA        NA"
      ]
     },
     "metadata": {},
     "output_type": "display_data"
    }
   ],
   "source": [
    "# City and Gender variables are statistically significant, as P values of both variables are less than 0.05.\n",
    "anova(income.lm)"
   ]
  },
  {
   "cell_type": "code",
   "execution_count": 161,
   "metadata": {
    "scrolled": true
   },
   "outputs": [
    {
     "data": {
      "image/png": "[encoded data removed]",
      "text/plain": [
       "plot without title"
      ]
     },
     "metadata": {},
     "output_type": "display_data"
    }
   ],
   "source": [
    "boxplot(df$Income~df$City, data=df, cex.names=.3)"
   ]
  },
  {
   "cell_type": "markdown",
   "metadata": {},
   "source": [
    "### **Step 7** : Result"
   ]
  },
  {
   "cell_type": "markdown",
   "metadata": {},
   "source": [
    "- From the first linear regression(ill.lm), it doesn't show any sign of relationship between 'Age' and 'Illness', at least in these data."
   ]
  },
  {
   "cell_type": "markdown",
   "metadata": {},
   "source": [
    "- From the second linear regression(income.lm), it is seen that 'Income' has correlations with all 8 'Cities', probably because all 'Cities' here are some of most largest cities in the United States.\n",
    "\n",
    "- It is also shown that 'Male' are likely to make more income than 'Female'."
   ]
  },
  {
   "cell_type": "markdown",
   "metadata": {},
   "source": [
    "### Step 8 : Thoughts"
   ]
  },
  {
   "cell_type": "markdown",
   "metadata": {},
   "source": [
    "- I need to get more familiar with data frame in R.\n",
    "- I should probably work with R for statistical analysis solely, and visualize the result with Python."
   ]
  },
  {
   "cell_type": "markdown",
   "metadata": {},
   "source": [
    "* This dataset is acquired from Carlo Lepelaars at Kaggle.\n",
    "<br> https://www.kaggle.com/carlolepelaars/toy-dataset"
   ]
  }
 ],
 "metadata": {
  "kernelspec": {
   "display_name": "R 3.3",
   "language": "R",
   "name": "ir33"
  },
  "language_info": {
   "codemirror_mode": "r",
   "file_extension": ".r",
   "mimetype": "text/x-r-source",
   "name": "R",
   "pygments_lexer": "r",
   "version": "3.5.3"
  }
 },
 "nbformat": 4,
 "nbformat_minor": 2
}
